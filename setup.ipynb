{
 "cells": [
  {
   "cell_type": "markdown",
   "metadata": {},
   "source": [
    "# Setup"
   ]
  },
  {
   "cell_type": "markdown",
   "metadata": {},
   "source": [
    "IMPORTANT NOTES:\n",
    "- Your domino instance MUST be running on AWS.\n",
    "- Your domino instance MUST be in the same AWS region as your model deployment for this initial preview capability."
   ]
  },
  {
   "cell_type": "markdown",
   "metadata": {},
   "source": [
    "## 1. Deployment Setup\n",
    "\n",
    "### 1a. Create or upgrade deployment\n",
    "Use the latest HEAD or a 6.0+ catalog with an AWS deployment flavor.\n",
    "\n",
    "### 1b. Enable feature flag\n",
    "Enable the `ShortLived.EnableModelDeploymentsApi` feature flag on your domino deployment."
   ]
  },
  {
   "cell_type": "markdown",
   "metadata": {},
   "source": [
    "## 2. AWS Account/Role Setup\n",
    "\n",
    "### 2a. Create AWS resources (including user & roles) to use for deployment to sagemaker\n",
    "NOTE #1: skip if using `dmo-team-sandbox` and use IAM user `sagemaker-tests` and IAM role `sagemakerFullAccess`\n",
    "NOTE #2: you must have full admin access to the AWS accounts to perform these steps\n",
    "1. Run the following script to create an IAM role/user and setup requierd policies in the *target* account:\n",
    "    - Script: [target_account_setup.sh](https://github.com/cerebrotech/pham-juno-operator-service/blob/main/dev/setup-scripts/target_account_setup.sh)\n",
    "    - If you're using `dmo-team-sandbox` as the domino and target account, you can skip the IAM user/role creation step and use the existing `dmo-team-sandbox` IAM user `sagemaker-tests` and IAM role `sagemakerFullAccess`.  You WILL need to run step #2 below to assign the correct permissions for the IAM role to decrypt the domino blob storage s3 bucket for your deployment.\n",
    "2. Run the following script to create an IAM role/user and setup requierd policies in the *domino* account (where Domino itself is running:\n",
    "    - Script: [domino_account_setup.sh](https://github.com/cerebrotech/pham-juno-operator-service/blob/main/dev/setup-scripts/domino_account_setup.sh)\n"
   ]
  },
  {
   "cell_type": "markdown",
   "metadata": {},
   "source": [
    "## 3. Project Setup\n",
    "\n",
    "### 3a. Create project from this git repo\n",
    "1. Login to the domino deployment\n",
    "2. Add git credentials for github\n",
    "3. Create a new git-based project using the repo https://github.com/cerebrotech/sagemaker-deployment-demo\n",
    "\n",
    "### 3b. Setup Env Vars for AWS creds\n",
    "For the project you just created, add project environment variables for AWS creds for the user in the target AWS account.  (If using `sagemaker-tests` in `dmo-team-sandbox`, get these values from [this shared 1Password credential](https://start.1password.com/open/i?a=5TQ765YJWFGZRMYI7SQGSLI4EI&v=ofq5ozbsgrpewd3g5jzw4ygtkq&i=vsh3zr6l4gxcyfjcpedf6wzwua&h=dominodatalab.1password.com).)\n",
    "1. `AWS_ACCESS_KEY_ID`: populate from `access key` field\n",
    "2. `AWS_SECRET_ACCESS_KEY`: populate from `secret access key` field\n",
    "\n",
    "If you are already running a workspace, stop and restart the workspace after adding these variables.\n",
    "\n",
    "### 3c. Create custom environment\n",
    "Create a custom environment with the packages needed for the sentiment analysis model derived from the DME and update your project to use this environment:\n",
    "1. Environment Base: \"Domino Core Environment\"\n",
    "2. Dockerfile instructions:\n",
    "    ```dockerfile\n",
    "    USER root\n",
    "    RUN pip install \"mlflow==2.13.2\" \"transformers<=4.39.3\" datasets ipywidgets torch torchvision boto3 accelerate --upgrade\n",
    "    USER ubuntu\n",
    "    ```\n",
    "3. Pluggable workspace tools (or copy all from DCE):\n",
    "    ```\n",
    "    jupyter:\n",
    "      title: \"Jupyter (Python, R, Julia)\"\n",
    "      iconUrl: \"/assets/images/workspace-logos/Jupyter.svg\"\n",
    "      start: [ \"/opt/domino/workspaces/jupyter/start\" ]\n",
    "      supportedFileExtensions: [ \".ipynb\" ]\n",
    "      httpProxy:\n",
    "        port: 8888\n",
    "        rewrite: false\n",
    "        internalPath: \"/{{ownerUsername}}/{{projectName}}/{{sessionPathComponent}}/{{runId}}/{{#if pathToOpen}}tree/{{pathToOpen}}{{/if}}\"\n",
    "        requireSubdomain: false\n",
    "    ```\n",
    "4. Confirm that the image builds successfully\n",
    "5. Change the `sagemaker-deployment-demo` project's default environment to this custom enviroment.\n",
    "    - If you are already running a workspace, create a new the workspace after changing this environment."
   ]
  },
  {
   "cell_type": "code",
   "execution_count": null,
   "metadata": {},
   "outputs": [],
   "source": []
  }
 ],
 "metadata": {
  "kernelspec": {
   "display_name": "Python 3 (ipykernel)",
   "language": "python",
   "name": "python3"
  },
  "language_info": {
   "codemirror_mode": {
    "name": "ipython",
    "version": 3
   },
   "file_extension": ".py",
   "mimetype": "text/x-python",
   "name": "python",
   "nbconvert_exporter": "python",
   "pygments_lexer": "ipython3",
   "version": "3.10.14"
  }
 },
 "nbformat": 4,
 "nbformat_minor": 2
}
