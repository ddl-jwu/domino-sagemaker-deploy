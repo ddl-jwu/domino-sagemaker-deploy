{
 "cells": [
  {
   "cell_type": "markdown",
   "id": "c93c663e",
   "metadata": {},
   "source": [
    "# Setup\n",
    "\n",
    "Follow the setup instructions in the [setup notebook](./setup.ipynb) before running this notebook. "
   ]
  },
  {
   "cell_type": "code",
   "execution_count": 9,
   "id": "5abe87ad-a4fc-4593-b457-87fb11b3e2f6",
   "metadata": {},
   "outputs": [],
   "source": [
    "%matplotlib inline"
   ]
  },
  {
   "cell_type": "code",
   "execution_count": 10,
   "id": "14dbaa03",
   "metadata": {},
   "outputs": [],
   "source": [
    "import os\n",
    "import mlflow\n",
    "from datasets import load_dataset\n",
    "from huggingface_hub import notebook_login\n",
    "from matplotlib import pyplot as plt\n",
    "from transformers import (\n",
    "    AutoModelForSequenceClassification,\n",
    "    RobertaTokenizer,\n",
    "    pipeline\n",
    ")\n",
    "\n",
    "from mlflow import MlflowClient\n",
    "from mlflow.store.artifact.runs_artifact_repo import RunsArtifactRepository"
   ]
  },
  {
   "cell_type": "markdown",
   "id": "5d4b13f1",
   "metadata": {},
   "source": [
    "## Huggingface login\n",
    "NOTE: you need create a huggingface account if you don't already have one and use it to generate a token in the next cell"
   ]
  },
  {
   "cell_type": "code",
   "execution_count": 3,
   "id": "770dade7",
   "metadata": {},
   "outputs": [
    {
     "data": {
      "application/vnd.jupyter.widget-view+json": {
       "model_id": "a2b91a7b52ed4800a1432b6085a80305",
       "version_major": 2,
       "version_minor": 0
      },
      "text/plain": [
       "VBox(children=(HTML(value='<center> <img\\nsrc=https://huggingface.co/front/assets/huggingface_logo-noborder.sv…"
      ]
     },
     "metadata": {},
     "output_type": "display_data"
    }
   ],
   "source": [
    "notebook_login()"
   ]
  },
  {
   "cell_type": "code",
   "execution_count": 4,
   "id": "165a32be-cf7a-40a5-a434-b552b69455c4",
   "metadata": {},
   "outputs": [],
   "source": [
    "!git config --global credential.helper store"
   ]
  },
  {
   "cell_type": "markdown",
   "id": "0e07a070-172a-40e0-90cb-d2c36cc1d951",
   "metadata": {},
   "source": [
    "## Load Model and Tokenizer"
   ]
  },
  {
   "cell_type": "code",
   "execution_count": 11,
   "id": "ba8ab965-b7e4-48d6-b258-527f788d1f10",
   "metadata": {},
   "outputs": [
    {
     "name": "stderr",
     "output_type": "stream",
     "text": [
      "/opt/conda/lib/python3.10/site-packages/huggingface_hub/file_download.py:1150: FutureWarning: `resume_download` is deprecated and will be removed in version 1.0.0. Downloads always resume when possible. If you want to force a new download, use `force_download=True`.\n",
      "  warnings.warn(\n"
     ]
    }
   ],
   "source": [
    "model = AutoModelForSequenceClassification.from_pretrained(\"mrm8488/distilroberta-finetuned-financial-news-sentiment-analysis\")\n",
    "tokenizer = RobertaTokenizer.from_pretrained('roberta-base')\n",
    "classification = pipeline('text-classification', model=model, tokenizer=tokenizer)"
   ]
  },
  {
   "cell_type": "markdown",
   "id": "e652786a-a237-4e00-8e7b-6b0a162f8651",
   "metadata": {},
   "source": [
    "## Test model locally"
   ]
  },
  {
   "cell_type": "code",
   "execution_count": 12,
   "id": "56d45829-ba21-4580-81fb-db4306dbb06c",
   "metadata": {},
   "outputs": [
    {
     "data": {
      "text/plain": [
       "[{'label': 'positive', 'score': 0.9922448992729187}]"
      ]
     },
     "execution_count": 12,
     "metadata": {},
     "output_type": "execute_result"
    }
   ],
   "source": [
    "text = \"I am very excited today.\"\n",
    "classification(text)"
   ]
  },
  {
   "cell_type": "markdown",
   "id": "db54e6c7-cf64-49e1-b94b-57a05fb93469",
   "metadata": {},
   "source": [
    "## Register model"
   ]
  },
  {
   "cell_type": "code",
   "execution_count": 14,
   "id": "8b7f5a2a",
   "metadata": {},
   "outputs": [
    {
     "name": "stderr",
     "output_type": "stream",
     "text": [
      "2024/09/13 21:16:38 INFO mlflow.store.model_registry.abstract_store: Waiting up to 300 seconds for model version to finish creation. Model name: finance-sentiment-analysis, version 1\n"
     ]
    },
    {
     "name": "stdout",
     "output_type": "stream",
     "text": [
      "Name: finance-sentiment-analysis\n",
      "Version: 1\n",
      "Description: Pretrained Sentiment Analysis model from mrm8488/distilroberta-finetuned-financial-news-sentiment-analysis -- text classifier\n",
      "Status: READY\n",
      "Stage: None\n"
     ]
    }
   ],
   "source": [
    "model_name = \"finance-sentiment-analysis\"\n",
    "\n",
    "client = MlflowClient()\n",
    "client.create_registered_model(model_name)\n",
    "with mlflow.start_run() as run:\n",
    "    model_info = mlflow.transformers.log_model(classification, \"model\")\n",
    "    runs_uri = model_info.model_uri\n",
    "    desc = \"Pretrained Sentiment Analysis model from mrm8488/distilroberta-finetuned-financial-news-sentiment-analysis -- text classifier\"\n",
    "    model_src = RunsArtifactRepository.get_underlying_uri(runs_uri)\n",
    "    mv = client.create_model_version(model_name, model_src, run.info.run_id, description=desc)\n",
    "    print(\"Name: {}\".format(mv.name))\n",
    "    print(\"Version: {}\".format(mv.version))\n",
    "    print(\"Description: {}\".format(mv.description))\n",
    "    print(\"Status: {}\".format(mv.status))\n",
    "    print(\"Stage: {}\".format(mv.current_stage))"
   ]
  }
 ],
 "metadata": {
  "kernelspec": {
   "display_name": "Python 3 (ipykernel)",
   "language": "python",
   "name": "python3"
  },
  "language_info": {
   "codemirror_mode": {
    "name": "ipython",
    "version": 3
   },
   "file_extension": ".py",
   "mimetype": "text/x-python",
   "name": "python",
   "nbconvert_exporter": "python",
   "pygments_lexer": "ipython3",
   "version": "3.10.14"
  }
 },
 "nbformat": 4,
 "nbformat_minor": 5
}
