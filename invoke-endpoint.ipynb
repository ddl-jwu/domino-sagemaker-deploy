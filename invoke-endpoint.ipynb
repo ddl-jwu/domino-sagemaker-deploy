{
 "cells": [
  {
   "cell_type": "markdown",
   "id": "13073ada-8ecf-4ea3-8fbd-fab448795682",
   "metadata": {},
   "source": [
    "## Test endpoint\n",
    "\n",
    "Replace the `request_body` and `base_url` parameters appropriately"
   ]
  },
  {
   "cell_type": "code",
   "execution_count": 9,
   "id": "ba97b77c-54da-41f8-a987-0d422a0cdc42",
   "metadata": {},
   "outputs": [
    {
     "name": "stdout",
     "output_type": "stream",
     "text": [
      "{\"predictions\": [{\"label\": \"positive\", \"score\": 0.9759213328361511}]}\n"
     ]
    }
   ],
   "source": [
    "import boto3\n",
    "import io\n",
    "import json\n",
    "import os\n",
    "import requests\n",
    "\n",
    "request_body='{ \"instances\": [ \"I feel amazing!\" ] }' #TODO: replace with valid inference request\n",
    "api_key=os.environ['DOMINO_USER_API_KEY'] #TODO: set this manually if running outside of Domino\n",
    "base_url=\"https://sagemaker-demo.dmo-team-sandbox.domino.tech/\" #TODO: replace with the URL of your domino instance\n",
    "\n",
    "model_deployment_id='66e4ac2a8d8677116ff0dd5e'\n",
    "endpoint_name='66e4ac2a8d8677116ff0dd5e-endpoint'\n",
    "region='us-east-1'\n",
    "credentials_url=f\"{base_url}/api/modelServing/preview/modelDeployments/{model_deployment_id}/credentials/INVOKE_ENDPOINT\"\n",
    "headers={\"X-Domino-Api-Key\": api_key, \"Content-Type\": \"application/json\", \"Accept\": \"application/json\"}\n",
    "\n",
    "credentials_response = requests.get(credentials_url, headers = headers).json()\n",
    "session = boto3.Session(aws_access_key_id=credentials_response['credentials']['AWS_ACCESS_KEY_ID'],\n",
    "                        aws_secret_access_key=credentials_response['credentials']['AWS_SECRET_ACCESS_KEY'],\n",
    "                        aws_session_token=credentials_response['credentials']['AWS_SESSION_TOKEN'])\n",
    "sagemaker_client=session.client(\"sagemaker-runtime\", region_name=region)\n",
    "\n",
    "try:\n",
    "    response=sagemaker_client.invoke_endpoint(\n",
    "        EndpointName=endpoint_name,\n",
    "        Body=request_body,\n",
    "        ContentType='application/json',\n",
    "        Accept='application/json',\n",
    "    )\n",
    "    print(response['Body'].read().decode('utf-8'))\n",
    "except sagemaker_client.exceptions.ModelError as e:\n",
    "    print(f\"error invoking endpoint: {e}\")"
   ]
  },
  {
   "cell_type": "code",
   "execution_count": null,
   "id": "06efc658-6031-4be1-b344-caf49d9bc26d",
   "metadata": {},
   "outputs": [],
   "source": []
  }
 ],
 "metadata": {
  "kernelspec": {
   "display_name": "Python 3 (ipykernel)",
   "language": "python",
   "name": "python3"
  },
  "language_info": {
   "codemirror_mode": {
    "name": "ipython",
    "version": 3
   },
   "file_extension": ".py",
   "mimetype": "text/x-python",
   "name": "python",
   "nbconvert_exporter": "python",
   "pygments_lexer": "ipython3",
   "version": "3.10.14"
  }
 },
 "nbformat": 4,
 "nbformat_minor": 5
}
